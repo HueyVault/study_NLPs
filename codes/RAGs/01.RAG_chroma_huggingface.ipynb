{
 "cells": [
  {
   "cell_type": "markdown",
   "metadata": {},
   "source": [
    "## RAG 구현\n",
    "- fine tuning 불편 해결"
   ]
  },
  {
   "cell_type": "code",
   "execution_count": 1,
   "metadata": {
    "execution": {
     "iopub.execute_input": "2025-02-21T01:33:16.609236Z",
     "iopub.status.busy": "2025-02-21T01:33:16.608740Z",
     "iopub.status.idle": "2025-02-21T01:34:07.005080Z",
     "shell.execute_reply": "2025-02-21T01:34:07.002961Z",
     "shell.execute_reply.started": "2025-02-21T01:33:16.609197Z"
    },
    "trusted": true
   },
   "outputs": [
    {
     "name": "stdout",
     "output_type": "stream",
     "text": [
      "\u001b[2K     \u001b[90m━━━━━━━━━━━━━━━━━━━━━━━━━━━━━━━━━━━━━━━━\u001b[0m \u001b[32m67.3/67.3 kB\u001b[0m \u001b[31m2.6 MB/s\u001b[0m eta \u001b[36m0:00:00\u001b[0m\n",
      "\u001b[?25h  Installing build dependencies ... \u001b[?25l\u001b[?25hdone\n",
      "  Getting requirements to build wheel ... \u001b[?25l\u001b[?25hdone\n",
      "  Preparing metadata (pyproject.toml) ... \u001b[?25l\u001b[?25hdone\n",
      "\u001b[2K   \u001b[90m━━━━━━━━━━━━━━━━━━━━━━━━━━━━━━━━━━━━━━━━\u001b[0m \u001b[32m611.1/611.1 kB\u001b[0m \u001b[31m16.3 MB/s\u001b[0m eta \u001b[36m0:00:00\u001b[0m00:01\u001b[0m\n",
      "\u001b[2K   \u001b[90m━━━━━━━━━━━━━━━━━━━━━━━━━━━━━━━━━━━━━━━━\u001b[0m \u001b[32m2.4/2.4 MB\u001b[0m \u001b[31m46.8 MB/s\u001b[0m eta \u001b[36m0:00:00\u001b[0m:00:01\u001b[0m\n",
      "\u001b[2K   \u001b[90m━━━━━━━━━━━━━━━━━━━━━━━━━━━━━━━━━━━━━━━━\u001b[0m \u001b[32m278.6/278.6 kB\u001b[0m \u001b[31m11.9 MB/s\u001b[0m eta \u001b[36m0:00:00\u001b[0m\n",
      "\u001b[2K   \u001b[90m━━━━━━━━━━━━━━━━━━━━━━━━━━━━━━━━━━━━━━━━\u001b[0m \u001b[32m94.8/94.8 kB\u001b[0m \u001b[31m4.6 MB/s\u001b[0m eta \u001b[36m0:00:00\u001b[0m\n",
      "\u001b[2K   \u001b[90m━━━━━━━━━━━━━━━━━━━━━━━━━━━━━━━━━━━━━━━━\u001b[0m \u001b[32m2.0/2.0 MB\u001b[0m \u001b[31m48.1 MB/s\u001b[0m eta \u001b[36m0:00:00\u001b[0m:00:01\u001b[0m\n",
      "\u001b[2K   \u001b[90m━━━━━━━━━━━━━━━━━━━━━━━━━━━━━━━━━━━━━━━━\u001b[0m \u001b[32m99.2/99.2 kB\u001b[0m \u001b[31m4.5 MB/s\u001b[0m eta \u001b[36m0:00:00\u001b[0m\n",
      "\u001b[2K   \u001b[90m━━━━━━━━━━━━━━━━━━━━━━━━━━━━━━━━━━━━━━━━\u001b[0m \u001b[32m13.3/13.3 MB\u001b[0m \u001b[31m71.1 MB/s\u001b[0m eta \u001b[36m0:00:00\u001b[0m:00:01\u001b[0m0:01\u001b[0m\n",
      "\u001b[2K   \u001b[90m━━━━━━━━━━━━━━━━━━━━━━━━━━━━━━━━━━━━━━━━\u001b[0m \u001b[32m55.9/55.9 kB\u001b[0m \u001b[31m2.1 MB/s\u001b[0m eta \u001b[36m0:00:00\u001b[0m\n",
      "\u001b[2K   \u001b[90m━━━━━━━━━━━━━━━━━━━━━━━━━━━━━━━━━━━━━━━━\u001b[0m \u001b[32m177.4/177.4 kB\u001b[0m \u001b[31m8.4 MB/s\u001b[0m eta \u001b[36m0:00:00\u001b[0m\n",
      "\u001b[2K   \u001b[90m━━━━━━━━━━━━━━━━━━━━━━━━━━━━━━━━━━━━━━━━\u001b[0m \u001b[32m65.0/65.0 kB\u001b[0m \u001b[31m2.8 MB/s\u001b[0m eta \u001b[36m0:00:00\u001b[0m\n",
      "\u001b[2K   \u001b[90m━━━━━━━━━━━━━━━━━━━━━━━━━━━━━━━━━━━━━━━━\u001b[0m \u001b[32m118.7/118.7 kB\u001b[0m \u001b[31m6.7 MB/s\u001b[0m eta \u001b[36m0:00:00\u001b[0m\n",
      "\u001b[2K   \u001b[90m━━━━━━━━━━━━━━━━━━━━━━━━━━━━━━━━━━━━━━━━\u001b[0m \u001b[32m73.9/73.9 kB\u001b[0m \u001b[31m3.0 MB/s\u001b[0m eta \u001b[36m0:00:00\u001b[0m\n",
      "\u001b[2K   \u001b[90m━━━━━━━━━━━━━━━━━━━━━━━━━━━━━━━━━━━━━━━━\u001b[0m \u001b[32m62.3/62.3 kB\u001b[0m \u001b[31m2.9 MB/s\u001b[0m eta \u001b[36m0:00:00\u001b[0m\n",
      "\u001b[2K   \u001b[90m━━━━━━━━━━━━━━━━━━━━━━━━━━━━━━━━━━━━━━━━\u001b[0m \u001b[32m442.1/442.1 kB\u001b[0m \u001b[31m18.9 MB/s\u001b[0m eta \u001b[36m0:00:00\u001b[0m\n",
      "\u001b[2K   \u001b[90m━━━━━━━━━━━━━━━━━━━━━━━━━━━━━━━━━━━━━━━━\u001b[0m \u001b[32m319.7/319.7 kB\u001b[0m \u001b[31m13.5 MB/s\u001b[0m eta \u001b[36m0:00:00\u001b[0m\n",
      "\u001b[2K   \u001b[90m━━━━━━━━━━━━━━━━━━━━━━━━━━━━━━━━━━━━━━━━\u001b[0m \u001b[32m71.5/71.5 kB\u001b[0m \u001b[31m2.9 MB/s\u001b[0m eta \u001b[36m0:00:00\u001b[0m\n",
      "\u001b[2K   \u001b[90m━━━━━━━━━━━━━━━━━━━━━━━━━━━━━━━━━━━━━━━━\u001b[0m \u001b[32m3.8/3.8 MB\u001b[0m \u001b[31m18.3 MB/s\u001b[0m eta \u001b[36m0:00:00\u001b[0m00:01\u001b[0m00:01\u001b[0m\n",
      "\u001b[2K   \u001b[90m━━━━━━━━━━━━━━━━━━━━━━━━━━━━━━━━━━━━━━━━\u001b[0m \u001b[32m452.9/452.9 kB\u001b[0m \u001b[31m20.3 MB/s\u001b[0m eta \u001b[36m0:00:00\u001b[0m\n",
      "\u001b[2K   \u001b[90m━━━━━━━━━━━━━━━━━━━━━━━━━━━━━━━━━━━━━━━━\u001b[0m \u001b[32m46.0/46.0 kB\u001b[0m \u001b[31m1.7 MB/s\u001b[0m eta \u001b[36m0:00:00\u001b[0m\n",
      "\u001b[2K   \u001b[90m━━━━━━━━━━━━━━━━━━━━━━━━━━━━━━━━━━━━━━━━\u001b[0m \u001b[32m86.8/86.8 kB\u001b[0m \u001b[31m3.5 MB/s\u001b[0m eta \u001b[36m0:00:00\u001b[0m\n",
      "\u001b[?25h  Building wheel for pypika (pyproject.toml) ... \u001b[?25l\u001b[?25hdone\n",
      "\u001b[31mERROR: pip's dependency resolver does not currently take into account all the packages that are installed. This behaviour is the source of the following dependency conflicts.\n",
      "google-api-core 1.34.1 requires protobuf!=3.20.0,!=3.20.1,!=4.21.0,!=4.21.1,!=4.21.2,!=4.21.3,!=4.21.4,!=4.21.5,<4.0.0dev,>=3.19.5, but you have protobuf 5.29.3 which is incompatible.\n",
      "google-cloud-bigtable 2.27.0 requires google-api-core[grpc]<3.0.0dev,>=2.16.0, but you have google-api-core 1.34.1 which is incompatible.\n",
      "google-cloud-translate 3.12.1 requires protobuf!=3.20.0,!=3.20.1,!=4.21.0,!=4.21.1,!=4.21.2,!=4.21.3,!=4.21.4,!=4.21.5,<5.0.0dev,>=3.19.5, but you have protobuf 5.29.3 which is incompatible.\n",
      "pandas-gbq 0.25.0 requires google-api-core<3.0.0dev,>=2.10.2, but you have google-api-core 1.34.1 which is incompatible.\n",
      "tensorflow 2.17.1 requires protobuf!=4.21.0,!=4.21.1,!=4.21.2,!=4.21.3,!=4.21.4,!=4.21.5,<5.0.0dev,>=3.20.3, but you have protobuf 5.29.3 which is incompatible.\n",
      "tensorflow-decision-forests 1.10.0 requires tensorflow==2.17.0, but you have tensorflow 2.17.1 which is incompatible.\n",
      "tensorflow-metadata 1.13.1 requires protobuf<5,>=3.20.3, but you have protobuf 5.29.3 which is incompatible.\u001b[0m\u001b[31m\n",
      "\u001b[0m"
     ]
    }
   ],
   "source": [
    "!pip install chromadb -qqq # vector database"
   ]
  },
  {
   "cell_type": "code",
   "execution_count": 2,
   "metadata": {
    "execution": {
     "iopub.execute_input": "2025-02-21T01:35:06.610709Z",
     "iopub.status.busy": "2025-02-21T01:35:06.610209Z",
     "iopub.status.idle": "2025-02-21T01:35:09.207501Z",
     "shell.execute_reply": "2025-02-21T01:35:09.206071Z",
     "shell.execute_reply.started": "2025-02-21T01:35:06.610670Z"
    },
    "trusted": true
   },
   "outputs": [
    {
     "data": {
      "text/plain": [
       "<chromadb.api.client.Client at 0x7ef1f73c8c70>"
      ]
     },
     "execution_count": 2,
     "metadata": {},
     "output_type": "execute_result"
    }
   ],
   "source": [
    "import chromadb \n",
    "vector_DB = chromadb.Client() # memory 버전\n",
    "vector_DB"
   ]
  },
  {
   "cell_type": "markdown",
   "metadata": {},
   "source": [
    "## data를 VectorDB에 넣기"
   ]
  },
  {
   "cell_type": "code",
   "execution_count": 3,
   "metadata": {
    "execution": {
     "iopub.execute_input": "2025-02-21T01:36:30.609115Z",
     "iopub.status.busy": "2025-02-21T01:36:30.608450Z",
     "iopub.status.idle": "2025-02-21T01:36:30.615393Z",
     "shell.execute_reply": "2025-02-21T01:36:30.613649Z",
     "shell.execute_reply.started": "2025-02-21T01:36:30.609080Z"
    },
    "trusted": true
   },
   "outputs": [],
   "source": [
    "documents = [\n",
    "    \"대한민국의 수도인 서울은 한강을 중심으로 동서로 나뉘며, 다양한 문화와 역사가 공존하는 도시이다. 고궁과 현대식 빌딩이 조화를 이루며, 관광객들에게 많은 볼거리를 제공한다. 또한, 강남과 강북 지역의 차이도 서울의 독특한 특징 중 하나로 꼽힌다.\",\n",
    "    \"한반도의 기후는 사계절이 뚜렷하며, 여름에는 북태평양 기단의 영향을 받아 무덥고 습하다. 반면 겨울에는 시베리아 기단의 영향을 받아 춥고 건조한 날씨가 지속된다. 봄과 가을은 짧지만 쾌적한 기후를 자랑하며, 여행하기 좋은 계절이다.\",\n",
    "    \"김치는 한국을 대표하는 전통 음식으로, 배추나 무를 소금에 절여 양념을 발라 발효시킨다. 지역마다 다양한 종류가 있으며, 대표적으로 배추김치, 깍두기, 동치미 등이 있다. 한국인들은 김치를 주식과 함께 즐겨 먹으며, 건강에도 좋은 음식으로 알려져 있다.\",\n",
    "    \"경복궁은 조선 시대에 건립된 궁궐로, 서울의 중심부에 위치해 있다. 광화문을 지나면 근정전과 경회루 등 다양한 건축물을 볼 수 있으며, 매년 많은 관광객들이 방문한다. 특히, 한복을 입고 방문하면 더욱 특별한 경험을 할 수 있다.\",\n",
    "    \"제주도는 대한민국에서 가장 큰 섬으로, 독특한 자연환경과 관광 명소로 유명하다. 한라산을 비롯하여 성산일출봉, 용두암 등의 자연경관이 있으며, 다양한 전통 문화와 먹거리를 즐길 수 있다. 온화한 기후 덕분에 사계절 내내 여행하기 좋다.\"\n",
    "]"
   ]
  },
  {
   "cell_type": "code",
   "execution_count": 4,
   "metadata": {
    "execution": {
     "iopub.execute_input": "2025-02-21T01:40:40.069858Z",
     "iopub.status.busy": "2025-02-21T01:40:40.069414Z",
     "iopub.status.idle": "2025-02-21T01:40:40.750741Z",
     "shell.execute_reply": "2025-02-21T01:40:40.749350Z",
     "shell.execute_reply.started": "2025-02-21T01:40:40.069827Z"
    },
    "trusted": true
   },
   "outputs": [
    {
     "data": {
      "text/plain": [
       "<chromadb.api.client.Client at 0x7ef1f73c9870>"
      ]
     },
     "execution_count": 4,
     "metadata": {},
     "output_type": "execute_result"
    }
   ],
   "source": [
    "# Vector data를 영구적으로 저장\n",
    "Vector_store = chromadb.PersistentClient(path='./chroma_db') # 로컬 저장 과 같이 있는 버전\n",
    "Vector_store"
   ]
  },
  {
   "cell_type": "code",
   "execution_count": 10,
   "metadata": {
    "execution": {
     "iopub.execute_input": "2025-02-21T02:08:44.030341Z",
     "iopub.status.busy": "2025-02-21T02:08:44.029891Z",
     "iopub.status.idle": "2025-02-21T02:08:44.358990Z",
     "shell.execute_reply": "2025-02-21T02:08:44.357801Z",
     "shell.execute_reply.started": "2025-02-21T02:08:44.030301Z"
    },
    "trusted": true
   },
   "outputs": [],
   "source": [
    "from transformers import AutoTokenizer, AutoModel\n",
    "# 모델 및 토크나이저 로드\n",
    "MODEL_NAME = \"sentence-transformers/all-MiniLM-L6-v2\"\n",
    "tokenizer = AutoTokenizer.from_pretrained(MODEL_NAME)\n",
    "model = AutoModel.from_pretrained(MODEL_NAME)"
   ]
  },
  {
   "cell_type": "code",
   "execution_count": 7,
   "metadata": {
    "execution": {
     "iopub.execute_input": "2025-02-21T01:53:14.880179Z",
     "iopub.status.busy": "2025-02-21T01:53:14.879251Z",
     "iopub.status.idle": "2025-02-21T01:53:14.908132Z",
     "shell.execute_reply": "2025-02-21T01:53:14.907026Z",
     "shell.execute_reply.started": "2025-02-21T01:53:14.880140Z"
    },
    "trusted": true
   },
   "outputs": [
    {
     "data": {
      "text/plain": [
       "{'input_ids': tensor([[  101,  1457, 30007, 30005, 30006, 30021, 29995, 30019, 30021, 29991,\n",
       "         30014, 30020, 29999, 30018,  1461, 30014, 29993, 30011, 29999, 30019,\n",
       "         30021,  1461, 30008, 29999, 30014, 30022, 29999, 30017, 30021,  1469,\n",
       "         30006, 30021, 29991, 30006, 30025, 29999, 30017, 30022,  1464, 30014,\n",
       "         30025, 29997, 30019, 30023, 29999, 30017, 29994, 30011,  1457, 30011,\n",
       "         30025, 29997, 30008, 29994, 30011,   100,  1010,   100,  1459, 30014,\n",
       "         30021, 30005, 30012, 29999, 30012,  1463, 30010, 30020, 29997, 30006,\n",
       "         29991, 30006,  1455, 30011, 30025, 30000, 30011, 30021, 30005, 30006,\n",
       "         29992, 30017, 30021,  1457, 30011, 29997, 30019, 29999, 30019, 29993,\n",
       "         30006,  1012,  1455, 30011, 29991, 30014, 30025, 29991, 30012,  1469,\n",
       "         30010, 30021, 29993, 30007, 29997, 30019, 30020,  1460, 30019, 30022,\n",
       "         29993, 30019, 30025, 29999, 30019,  1464, 30011, 30005, 30012, 29994,\n",
       "         30017, 30022,  1463, 30019, 29994, 30014, 29995, 30010,  1010,  1455,\n",
       "         30012, 30021, 29991, 30012, 30025, 29991, 30007, 30020, 29993, 30017,\n",
       "         30022, 29999, 30009, 29991, 30009,   100,  1460, 30011, 30022, 29991,\n",
       "         30008, 29994, 30019, 29994, 30017, 30022,  1464, 30009, 29991, 30011,\n",
       "         30025, 30005, 30006, 30021, 29993, 30006,  1012,   100,  1010,  1455,\n",
       "         30006, 30025, 29992, 30006, 30023, 29991, 30012,  1455, 30006, 30025,\n",
       "         29996, 30014, 30020,  1464, 30019, 29999, 30010, 30020, 29999, 30018,\n",
       "          1465, 30006, 29999, 30019, 29993, 30011,  1461, 30008, 29999, 30014,\n",
       "         30022, 29999, 30018,  1457, 30011, 30020, 30003, 30017, 30020, 30005,\n",
       "         30006, 30021,  1467, 30017, 30020, 30000, 30019, 30025,  1464, 30014,\n",
       "         30025,  1469, 30006, 29992, 30006, 29994, 30011,   100,  1012,   102]]), 'token_type_ids': tensor([[0, 0, 0, 0, 0, 0, 0, 0, 0, 0, 0, 0, 0, 0, 0, 0, 0, 0, 0, 0, 0, 0, 0, 0,\n",
       "         0, 0, 0, 0, 0, 0, 0, 0, 0, 0, 0, 0, 0, 0, 0, 0, 0, 0, 0, 0, 0, 0, 0, 0,\n",
       "         0, 0, 0, 0, 0, 0, 0, 0, 0, 0, 0, 0, 0, 0, 0, 0, 0, 0, 0, 0, 0, 0, 0, 0,\n",
       "         0, 0, 0, 0, 0, 0, 0, 0, 0, 0, 0, 0, 0, 0, 0, 0, 0, 0, 0, 0, 0, 0, 0, 0,\n",
       "         0, 0, 0, 0, 0, 0, 0, 0, 0, 0, 0, 0, 0, 0, 0, 0, 0, 0, 0, 0, 0, 0, 0, 0,\n",
       "         0, 0, 0, 0, 0, 0, 0, 0, 0, 0, 0, 0, 0, 0, 0, 0, 0, 0, 0, 0, 0, 0, 0, 0,\n",
       "         0, 0, 0, 0, 0, 0, 0, 0, 0, 0, 0, 0, 0, 0, 0, 0, 0, 0, 0, 0, 0, 0, 0, 0,\n",
       "         0, 0, 0, 0, 0, 0, 0, 0, 0, 0, 0, 0, 0, 0, 0, 0, 0, 0, 0, 0, 0, 0, 0, 0,\n",
       "         0, 0, 0, 0, 0, 0, 0, 0, 0, 0, 0, 0, 0, 0, 0, 0, 0, 0, 0, 0, 0, 0, 0, 0,\n",
       "         0, 0, 0, 0, 0, 0, 0, 0, 0, 0, 0, 0, 0, 0]]), 'attention_mask': tensor([[1, 1, 1, 1, 1, 1, 1, 1, 1, 1, 1, 1, 1, 1, 1, 1, 1, 1, 1, 1, 1, 1, 1, 1,\n",
       "         1, 1, 1, 1, 1, 1, 1, 1, 1, 1, 1, 1, 1, 1, 1, 1, 1, 1, 1, 1, 1, 1, 1, 1,\n",
       "         1, 1, 1, 1, 1, 1, 1, 1, 1, 1, 1, 1, 1, 1, 1, 1, 1, 1, 1, 1, 1, 1, 1, 1,\n",
       "         1, 1, 1, 1, 1, 1, 1, 1, 1, 1, 1, 1, 1, 1, 1, 1, 1, 1, 1, 1, 1, 1, 1, 1,\n",
       "         1, 1, 1, 1, 1, 1, 1, 1, 1, 1, 1, 1, 1, 1, 1, 1, 1, 1, 1, 1, 1, 1, 1, 1,\n",
       "         1, 1, 1, 1, 1, 1, 1, 1, 1, 1, 1, 1, 1, 1, 1, 1, 1, 1, 1, 1, 1, 1, 1, 1,\n",
       "         1, 1, 1, 1, 1, 1, 1, 1, 1, 1, 1, 1, 1, 1, 1, 1, 1, 1, 1, 1, 1, 1, 1, 1,\n",
       "         1, 1, 1, 1, 1, 1, 1, 1, 1, 1, 1, 1, 1, 1, 1, 1, 1, 1, 1, 1, 1, 1, 1, 1,\n",
       "         1, 1, 1, 1, 1, 1, 1, 1, 1, 1, 1, 1, 1, 1, 1, 1, 1, 1, 1, 1, 1, 1, 1, 1,\n",
       "         1, 1, 1, 1, 1, 1, 1, 1, 1, 1, 1, 1, 1, 1]])}"
      ]
     },
     "execution_count": 7,
     "metadata": {},
     "output_type": "execute_result"
    }
   ],
   "source": [
    "# Embedding 과정\n",
    "# tokenizing\n",
    "text = documents[0]\n",
    "inputs = tokenizer(text, return_tensors='pt',\n",
    "             truncation=True,\n",
    "             padding=True,\n",
    "             max_length=512)  # 사전 맞는 글자\n",
    "# inputs"
   ]
  },
  {
   "cell_type": "code",
   "execution_count": 33,
   "metadata": {
    "execution": {
     "iopub.execute_input": "2025-02-21T02:27:53.892337Z",
     "iopub.status.busy": "2025-02-21T02:27:53.891913Z",
     "iopub.status.idle": "2025-02-21T02:27:53.985121Z",
     "shell.execute_reply": "2025-02-21T02:27:53.983991Z",
     "shell.execute_reply.started": "2025-02-21T02:27:53.892308Z"
    },
    "trusted": true
   },
   "outputs": [],
   "source": [
    "# Embedding\n",
    "import torch\n",
    "with torch.no_grad():\n",
    "    embedding = model(**inputs).last_hidden_state[:,0,:].squeeze().numpy() # tensor to numpy, 이렇게 사용을 위한 차원 변화에 대한 부분 더 공부 필요\n",
    "# embedding"
   ]
  },
  {
   "cell_type": "code",
   "execution_count": 31,
   "metadata": {
    "execution": {
     "iopub.execute_input": "2025-02-21T02:27:22.681037Z",
     "iopub.status.busy": "2025-02-21T02:27:22.680658Z",
     "iopub.status.idle": "2025-02-21T02:27:22.705892Z",
     "shell.execute_reply": "2025-02-21T02:27:22.704750Z",
     "shell.execute_reply.started": "2025-02-21T02:27:22.681010Z"
    },
    "trusted": true
   },
   "outputs": [],
   "source": [
    "# Vector DB에 data 넣기\n",
    "collection = Vector_store.get_or_create_collection(name='semantic_cache') # vectorDB collection 이름\n",
    "\n",
    "doc_id = 90\n",
    "collection.add(documents=[text],\n",
    "              embeddings=[embedding.tolist()],\n",
    "              ids=[str(doc_id)]\n",
    "              ) # 한 row 넣는거네"
   ]
  },
  {
   "cell_type": "code",
   "execution_count": 17,
   "metadata": {
    "execution": {
     "iopub.execute_input": "2025-02-21T02:15:38.897695Z",
     "iopub.status.busy": "2025-02-21T02:15:38.897260Z",
     "iopub.status.idle": "2025-02-21T02:15:38.903564Z",
     "shell.execute_reply": "2025-02-21T02:15:38.902181Z",
     "shell.execute_reply.started": "2025-02-21T02:15:38.897666Z"
    },
    "trusted": true
   },
   "outputs": [],
   "source": [
    "# text to embedded\n",
    "def embedded_text(text):\n",
    "    inputs = tokenizer(text, return_tensors='pt',\n",
    "             truncation=True,\n",
    "             padding=True,\n",
    "             max_length=512) \n",
    "\n",
    "    with torch.no_grad():\n",
    "        embedding = model(**inputs).last_hidden_state[:,0,:].squeeze().numpy()\n",
    "    return embedding.tolist()"
   ]
  },
  {
   "cell_type": "code",
   "execution_count": 18,
   "metadata": {
    "execution": {
     "iopub.execute_input": "2025-02-21T02:17:58.499679Z",
     "iopub.status.busy": "2025-02-21T02:17:58.499230Z",
     "iopub.status.idle": "2025-02-21T02:17:58.505335Z",
     "shell.execute_reply": "2025-02-21T02:17:58.504015Z",
     "shell.execute_reply.started": "2025-02-21T02:17:58.499650Z"
    },
    "trusted": true
   },
   "outputs": [],
   "source": [
    "def add_vectors_to_chroma(text, doc_id):\n",
    "    collection.add(documents=[text],\n",
    "              embeddings=[embedded_text(text)],\n",
    "              ids=[str(doc_id)]\n",
    "              )"
   ]
  },
  {
   "cell_type": "code",
   "execution_count": 41,
   "metadata": {
    "execution": {
     "iopub.execute_input": "2025-02-21T02:54:38.209229Z",
     "iopub.status.busy": "2025-02-21T02:54:38.208877Z",
     "iopub.status.idle": "2025-02-21T02:54:38.631229Z",
     "shell.execute_reply": "2025-02-21T02:54:38.630071Z",
     "shell.execute_reply.started": "2025-02-21T02:54:38.209205Z"
    },
    "trusted": true
   },
   "outputs": [],
   "source": [
    "## documents 를 chroma 저장\n",
    "for idx, sentence in enumerate(documents):\n",
    "    add_vectors_to_chroma(sentence, idx)"
   ]
  },
  {
   "cell_type": "code",
   "execution_count": 43,
   "metadata": {
    "execution": {
     "iopub.execute_input": "2025-02-21T02:54:57.534398Z",
     "iopub.status.busy": "2025-02-21T02:54:57.533946Z",
     "iopub.status.idle": "2025-02-21T02:54:57.543242Z",
     "shell.execute_reply": "2025-02-21T02:54:57.542237Z",
     "shell.execute_reply.started": "2025-02-21T02:54:57.534354Z"
    },
    "trusted": true
   },
   "outputs": [],
   "source": [
    "# chroma 저장 확인\n",
    "# records = collection.get() # 그냥 하면 embedding 확인 못함. 보안 때문이라는데 왠지 잘 모르겠음.\n",
    "records = collection.get(include=['embeddings', 'documents', 'metadatas'])\n",
    "# records"
   ]
  },
  {
   "cell_type": "code",
   "execution_count": 39,
   "metadata": {
    "execution": {
     "iopub.execute_input": "2025-02-21T02:28:18.027218Z",
     "iopub.status.busy": "2025-02-21T02:28:18.026794Z",
     "iopub.status.idle": "2025-02-21T02:28:18.050261Z",
     "shell.execute_reply": "2025-02-21T02:28:18.048846Z",
     "shell.execute_reply.started": "2025-02-21T02:28:18.027186Z"
    },
    "trusted": true
   },
   "outputs": [],
   "source": [
    "# 모두 삭제\n",
    "for idx in records['ids']:\n",
    "    collection.delete(ids=idx)"
   ]
  },
  {
   "cell_type": "code",
   "execution_count": 45,
   "metadata": {
    "execution": {
     "iopub.execute_input": "2025-02-21T02:55:07.100384Z",
     "iopub.status.busy": "2025-02-21T02:55:07.100037Z",
     "iopub.status.idle": "2025-02-21T02:55:07.108800Z",
     "shell.execute_reply": "2025-02-21T02:55:07.107655Z",
     "shell.execute_reply.started": "2025-02-21T02:55:07.100359Z"
    },
    "trusted": true
   },
   "outputs": [
    {
     "data": {
      "text/plain": [
       "{'ids': ['0', '1', '2', '3', '4'],\n",
       " 'embeddings': array([[-0.0826944 ,  0.28307831,  0.35198468, ...,  0.41575274,\n",
       "         -0.2411796 , -0.27682897],\n",
       "        [-0.0150467 ,  0.3318426 ,  0.45812592, ...,  0.22800536,\n",
       "         -0.12948722, -0.15413682],\n",
       "        [-0.10022879,  0.40820158,  0.3926912 , ...,  0.21185279,\n",
       "         -0.17258941, -0.1847412 ],\n",
       "        [-0.0715006 ,  0.41899884,  0.47206962, ...,  0.31835678,\n",
       "         -0.24478345, -0.24589416],\n",
       "        [-0.10568349,  0.43485618,  0.4710961 , ...,  0.31788516,\n",
       "         -0.20172018, -0.17516159]]),\n",
       " 'documents': ['대한민국의 수도인 서울은 한강을 중심으로 동서로 나뉘며, 다양한 문화와 역사가 공존하는 도시이다. 고궁과 현대식 빌딩이 조화를 이루며, 관광객들에게 많은 볼거리를 제공한다. 또한, 강남과 강북 지역의 차이도 서울의 독특한 특징 중 하나로 꼽힌다.',\n",
       "  '한반도의 기후는 사계절이 뚜렷하며, 여름에는 북태평양 기단의 영향을 받아 무덥고 습하다. 반면 겨울에는 시베리아 기단의 영향을 받아 춥고 건조한 날씨가 지속된다. 봄과 가을은 짧지만 쾌적한 기후를 자랑하며, 여행하기 좋은 계절이다.',\n",
       "  '김치는 한국을 대표하는 전통 음식으로, 배추나 무를 소금에 절여 양념을 발라 발효시킨다. 지역마다 다양한 종류가 있으며, 대표적으로 배추김치, 깍두기, 동치미 등이 있다. 한국인들은 김치를 주식과 함께 즐겨 먹으며, 건강에도 좋은 음식으로 알려져 있다.',\n",
       "  '경복궁은 조선 시대에 건립된 궁궐로, 서울의 중심부에 위치해 있다. 광화문을 지나면 근정전과 경회루 등 다양한 건축물을 볼 수 있으며, 매년 많은 관광객들이 방문한다. 특히, 한복을 입고 방문하면 더욱 특별한 경험을 할 수 있다.',\n",
       "  '제주도는 대한민국에서 가장 큰 섬으로, 독특한 자연환경과 관광 명소로 유명하다. 한라산을 비롯하여 성산일출봉, 용두암 등의 자연경관이 있으며, 다양한 전통 문화와 먹거리를 즐길 수 있다. 온화한 기후 덕분에 사계절 내내 여행하기 좋다.'],\n",
       " 'uris': None,\n",
       " 'data': None,\n",
       " 'metadatas': [None, None, None, None, None],\n",
       " 'included': [<IncludeEnum.embeddings: 'embeddings'>,\n",
       "  <IncludeEnum.documents: 'documents'>,\n",
       "  <IncludeEnum.metadatas: 'metadatas'>]}"
      ]
     },
     "execution_count": 45,
     "metadata": {},
     "output_type": "execute_result"
    }
   ],
   "source": [
    "records"
   ]
  },
  {
   "cell_type": "code",
   "execution_count": 46,
   "metadata": {
    "execution": {
     "iopub.execute_input": "2025-02-21T03:03:10.001236Z",
     "iopub.status.busy": "2025-02-21T03:03:09.999713Z",
     "iopub.status.idle": "2025-02-21T03:03:10.067490Z",
     "shell.execute_reply": "2025-02-21T03:03:10.066162Z",
     "shell.execute_reply.started": "2025-02-21T03:03:10.001133Z"
    },
    "trusted": true
   },
   "outputs": [
    {
     "name": "stdout",
     "output_type": "stream",
     "text": [
      "질문: 북태평양 기단과 오호츠크해 기단이 만나 국내에 머무르는 기간은?\n",
      "결과: {'ids': [['1']], 'embeddings': None, 'documents': [['한반도의 기후는 사계절이 뚜렷하며, 여름에는 북태평양 기단의 영향을 받아 무덥고 습하다. 반면 겨울에는 시베리아 기단의 영향을 받아 춥고 건조한 날씨가 지속된다. 봄과 가을은 짧지만 쾌적한 기후를 자랑하며, 여행하기 좋은 계절이다.']], 'uris': None, 'data': None, 'metadatas': [[None]], 'distances': [[4.638633358663138]], 'included': [<IncludeEnum.distances: 'distances'>, <IncludeEnum.documents: 'documents'>, <IncludeEnum.metadatas: 'metadatas'>]}\n",
      "\n"
     ]
    }
   ],
   "source": [
    "question = \"북태평양 기단과 오호츠크해 기단이 만나 국내에 머무르는 기간은?\"\n",
    "response = collection.query(query_embeddings=[embedded_text(question)], n_results=1) # 유사도 기반 query\n",
    "print(f\"질문: {question}\\n결과: {response}\\n\")"
   ]
  },
  {
   "cell_type": "code",
   "execution_count": null,
   "metadata": {
    "trusted": true
   },
   "outputs": [],
   "source": []
  }
 ],
 "metadata": {
  "kernelspec": {
   "display_name": "Python 3",
   "language": "python",
   "name": "python3"
  },
  "language_info": {
   "codemirror_mode": {
    "name": "ipython",
    "version": 3
   },
   "file_extension": ".py",
   "mimetype": "text/x-python",
   "name": "python",
   "nbconvert_exporter": "python",
   "pygments_lexer": "ipython3",
   "version": "3.10.12"
  }
 },
 "nbformat": 4,
 "nbformat_minor": 4
}
